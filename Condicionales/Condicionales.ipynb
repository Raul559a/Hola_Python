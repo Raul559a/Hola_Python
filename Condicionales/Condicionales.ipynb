{
 "cells": [
  {
   "cell_type": "markdown",
   "metadata": {},
   "source": [
    "Lo primero que veremos serán los famosos condicionales, estas instrucciones nos permiten \"tomar decisiones\" dentro del código. Hay muchas formas de hacer esto.\n",
    "Para esto vamos a requerir el uso de algo que conocemos como **Operadores Condicionales**.\n",
    "\n",
    "|Operador|Nombre|\n",
    "|--------|------|\n",
    "| ==     | igual|\n",
    "| !=     | diferente|\n",
    "| <      | menor que|\n",
    "| >      | mayor que|\n",
    "| <=     | menor o igual que|\n",
    "| >=     | mayor o igual que|\n",
    "\n",
    "Es importante recalcar que este tipo de operador solo nos permite hacer elecciones simples, estas elecciones son tan simples como decidir que color de playera se ve mejor con un pantalón caqui."
   ]
  },
  {
   "cell_type": "code",
   "execution_count": 1,
   "metadata": {},
   "outputs": [
    {
     "name": "stdout",
     "output_type": "stream",
     "text": [
      "Looks good:  False\n"
     ]
    }
   ],
   "source": [
    "shirt_Color  = input('Choose your T-shirt color:') # We choose our t-shirt color\n",
    "looks_Good = shirt_Color == 'black' # We check our decision, if its different from black we'll get False\n",
    "print('Looks good: ', looks_Good )"
   ]
  },
  {
   "cell_type": "markdown",
   "metadata": {},
   "source": [
    "También es posible realizar varias condiciones a la vez, esto es lo que conocemos como **Condiciones Compuestas** y requieren de dos operadoes especiales.\n",
    "\n",
    "|AND|OR|\n",
    "|---|--|\n",
    "|Se requiere que se cumplan ambas condiciones para obtener True| Se requiere que al menos una condición se cumpla|"
   ]
  },
  {
   "cell_type": "code",
   "execution_count": 2,
   "metadata": {},
   "outputs": [
    {
     "name": "stdout",
     "output_type": "stream",
     "text": [
      "is a good choice? False\n"
     ]
    }
   ],
   "source": [
    "activity = input('What are you going to do?')\n",
    "shoes = input('Which pair of shoes do you need?')\n",
    "good_Choice = (activity == 'soccer' and shoes == 'tennis') or (activity == 'meeting' and shoes == 'shoes')\n",
    "print('is a good choice?', good_Choice)"
   ]
  },
  {
   "cell_type": "markdown",
   "metadata": {},
   "source": [
    "## ¡Importante!\n",
    "\n",
    "Los operadores (<, >, <=, >=) suelen ser utilizados para comparar números, sin embargo, se pueden usar para comparar palabras usando algo conocido como *ordenamiento lexicográfico* el cual se encarga de dar un valor numérico a las letras. Ejemplo:\n"
   ]
  },
  {
   "cell_type": "code",
   "execution_count": 9,
   "metadata": {},
   "outputs": [
    {
     "data": {
      "text/plain": [
       "(97, 98)"
      ]
     },
     "execution_count": 9,
     "metadata": {},
     "output_type": "execute_result"
    }
   ],
   "source": [
    "ord('a'),ord('b') # this returns the numbers of each letter\n",
    "# print('a' > 'b') # Take away the pound key at the beggining of the line to see the result of the comparison"
   ]
  }
 ],
 "metadata": {
  "kernelspec": {
   "display_name": "Python 3",
   "language": "python",
   "name": "python3"
  },
  "language_info": {
   "codemirror_mode": {
    "name": "ipython",
    "version": 3
   },
   "file_extension": ".py",
   "mimetype": "text/x-python",
   "name": "python",
   "nbconvert_exporter": "python",
   "pygments_lexer": "ipython3",
   "version": "3.12.5"
  }
 },
 "nbformat": 4,
 "nbformat_minor": 2
}
